{
 "cells": [
  {
   "cell_type": "code",
   "execution_count": 10,
   "id": "f5dc3dfd",
   "metadata": {},
   "outputs": [],
   "source": [
    "import nltk  #natural language toolkit\n",
    "from nltk.corpus import stopwords\n",
    "from nltk.stem import PorterStemmer\n",
    "import string"
   ]
  },
  {
   "cell_type": "code",
   "execution_count": 11,
   "id": "af612658",
   "metadata": {},
   "outputs": [
    {
     "name": "stderr",
     "output_type": "stream",
     "text": [
      "[nltk_data] Downloading package stopwords to\n",
      "[nltk_data]     C:\\Users\\ics\\AppData\\Roaming\\nltk_data...\n",
      "[nltk_data]   Package stopwords is already up-to-date!\n"
     ]
    }
   ],
   "source": [
    "nltk.download('stopwords')\n",
    "stop_words = set(stopwords.words('english'))\n",
    "stemmer = PorterStemmer()\n"
   ]
  },
  {
   "cell_type": "code",
   "execution_count": 12,
   "id": "49aaa7ff",
   "metadata": {},
   "outputs": [],
   "source": [
    "\n",
    "text =\"Natural Language Processing, commonly referred to as NLP, is a fascinating field of Artificial Intelligence that focuses on the interaction between computers and human languages. It involves tasks such as speech recognition, sentiment analysis, machine translation, and text summarization. With the increasing amount of digital text data available today, NLP has become more important than ever in helping machines understand and generate human language effectively.\"\n"
   ]
  },
  {
   "cell_type": "code",
   "execution_count": 13,
   "id": "7d16624b",
   "metadata": {},
   "outputs": [],
   "source": [
    "# Lowercase\n",
    "text = text.lower()"
   ]
  },
  {
   "cell_type": "code",
   "execution_count": 14,
   "id": "2921c74f",
   "metadata": {},
   "outputs": [],
   "source": [
    "# Remove punctuation\n",
    "text = text.translate(str.maketrans('', '', string.punctuation))"
   ]
  },
  {
   "cell_type": "code",
   "execution_count": 15,
   "id": "2471cd45",
   "metadata": {},
   "outputs": [],
   "source": [
    "# Tokenization (splitting into words)\n",
    "words = text.split()"
   ]
  },
  {
   "cell_type": "code",
   "execution_count": 16,
   "id": "4f82b05c",
   "metadata": {},
   "outputs": [],
   "source": [
    "# Remove stopwords and apply stemming\n",
    "processed = [stemmer.stem(word) for word in words if word not in stop_words]"
   ]
  },
  {
   "cell_type": "code",
   "execution_count": 17,
   "id": "ba2b405e",
   "metadata": {},
   "outputs": [
    {
     "name": "stdout",
     "output_type": "stream",
     "text": [
      "['natur', 'languag', 'process', 'commonli', 'refer', 'nlp', 'fascin', 'field', 'artifici', 'intellig', 'focus', 'interact', 'comput', 'human', 'languag', 'involv', 'task', 'speech', 'recognit', 'sentiment', 'analysi', 'machin', 'translat', 'text', 'summar', 'increas', 'amount', 'digit', 'text', 'data', 'avail', 'today', 'nlp', 'becom', 'import', 'ever', 'help', 'machin', 'understand', 'gener', 'human', 'languag', 'effect']\n"
     ]
    }
   ],
   "source": [
    "print(processed)"
   ]
  },
  {
   "cell_type": "code",
   "execution_count": null,
   "id": "adbb3ae6",
   "metadata": {},
   "outputs": [],
   "source": []
  }
 ],
 "metadata": {
  "kernelspec": {
   "display_name": "myenv",
   "language": "python",
   "name": "python3"
  },
  "language_info": {
   "codemirror_mode": {
    "name": "ipython",
    "version": 3
   },
   "file_extension": ".py",
   "mimetype": "text/x-python",
   "name": "python",
   "nbconvert_exporter": "python",
   "pygments_lexer": "ipython3",
   "version": "3.10.18"
  }
 },
 "nbformat": 4,
 "nbformat_minor": 5
}
