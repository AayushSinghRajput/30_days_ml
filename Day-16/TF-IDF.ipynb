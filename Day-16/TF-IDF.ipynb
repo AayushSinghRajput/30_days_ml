{
 "cells": [
  {
   "cell_type": "code",
   "execution_count": 1,
   "id": "fd25e8ad",
   "metadata": {},
   "outputs": [
    {
     "name": "stdout",
     "output_type": "stream",
     "text": [
      "['great' 'is' 'learning' 'love' 'machine' 'nlp']\n",
      "[[0.         0.         0.57735027 0.57735027 0.57735027 0.        ]\n",
      " [0.5628291  0.5628291  0.42804604 0.         0.42804604 0.        ]\n",
      " [0.         0.         0.         0.60534851 0.         0.79596054]]\n"
     ]
    }
   ],
   "source": [
    "from sklearn.feature_extraction.text import TfidfVectorizer\n",
    "\n",
    "corpus = [\n",
    "    \"I love machine learning\",\n",
    "    \"Machine learning is great\",\n",
    "    \"I love NLP\"\n",
    "]\n",
    "\n",
    "vectorizer = TfidfVectorizer()\n",
    "X = vectorizer.fit_transform(corpus)\n",
    "\n",
    "print(vectorizer.get_feature_names_out())\n",
    "print(X.toarray())\n"
   ]
  }
 ],
 "metadata": {
  "kernelspec": {
   "display_name": "myenv",
   "language": "python",
   "name": "python3"
  },
  "language_info": {
   "codemirror_mode": {
    "name": "ipython",
    "version": 3
   },
   "file_extension": ".py",
   "mimetype": "text/x-python",
   "name": "python",
   "nbconvert_exporter": "python",
   "pygments_lexer": "ipython3",
   "version": "3.10.18"
  }
 },
 "nbformat": 4,
 "nbformat_minor": 5
}
