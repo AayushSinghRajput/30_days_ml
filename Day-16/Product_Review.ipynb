{
 "cells": [
  {
   "cell_type": "code",
   "execution_count": 12,
   "id": "37bfde99",
   "metadata": {},
   "outputs": [
    {
     "name": "stdout",
     "output_type": "stream",
     "text": [
      "       reviewerID        asin  reviewerName helpful  \\\n",
      "0  A3SBTW3WS4IQSN  B007WTAJTO           NaN  [0, 0]   \n",
      "1  A18K1ODH1I2MVB  B007WTAJTO          0mie  [0, 0]   \n",
      "2  A2FII3I2MBMUIA  B007WTAJTO           1K3  [0, 0]   \n",
      "3   A3H99DFEG68SR  B007WTAJTO           1m2  [0, 0]   \n",
      "4  A375ZM4U047O79  B007WTAJTO  2&amp;1/2Men  [0, 0]   \n",
      "\n",
      "                                          reviewText  overall  \\\n",
      "0                                         No issues.      4.0   \n",
      "1  Purchased this for my device, it worked as adv...      5.0   \n",
      "2  it works as expected. I should have sprung for...      4.0   \n",
      "3  This think has worked out great.Had a diff. br...      5.0   \n",
      "4  Bought it with Retail Packaging, arrived legit...      5.0   \n",
      "\n",
      "                                  summary  unixReviewTime  reviewTime  \\\n",
      "0                              Four Stars      1406073600  2014-07-23   \n",
      "1                           MOAR SPACE!!!      1382659200  2013-10-25   \n",
      "2               nothing to really say....      1356220800  2012-12-23   \n",
      "3  Great buy at this price!!!  *** UPDATE      1384992000  2013-11-21   \n",
      "4                        best deal around      1373673600  2013-07-13   \n",
      "\n",
      "   day_diff  helpful_yes  total_vote  \n",
      "0       138            0           0  \n",
      "1       409            0           0  \n",
      "2       715            0           0  \n",
      "3       382            0           0  \n",
      "4       513            0           0  \n"
     ]
    }
   ],
   "source": [
    "import pandas as pd\n",
    "\n",
    "df = pd.read_csv(\"amazon_reviews.csv\")\n",
    "print(df.head())"
   ]
  },
  {
   "cell_type": "markdown",
   "id": "215ca7e3",
   "metadata": {},
   "source": [
    "Positive → ratings 4 or 5\n",
    "\n",
    "Negative → ratings 1 or 2\n",
    "\n",
    "Neutral → rating 3 (optional — skip this for binary classification)"
   ]
  },
  {
   "cell_type": "code",
   "execution_count": 13,
   "id": "5c784748",
   "metadata": {},
   "outputs": [],
   "source": [
    "def get_sentiment(rating):\n",
    "    if rating >= 4:\n",
    "        return \"Positive\"\n",
    "    elif rating <= 2:\n",
    "        return \"Negative\"\n",
    "    else:\n",
    "        return None  # We’ll drop these\n",
    "\n",
    "df['sentiment'] = df['overall'].apply(get_sentiment)\n",
    "df = df.dropna(subset=['sentiment'])  # Drop neutral rows"
   ]
  },
  {
   "cell_type": "code",
   "execution_count": 14,
   "id": "dcdad07a",
   "metadata": {},
   "outputs": [
    {
     "name": "stderr",
     "output_type": "stream",
     "text": [
      "[nltk_data] Downloading package punkt to\n",
      "[nltk_data]     C:\\Users\\ics\\AppData\\Roaming\\nltk_data...\n",
      "[nltk_data]   Package punkt is already up-to-date!\n",
      "[nltk_data] Downloading package stopwords to\n",
      "[nltk_data]     C:\\Users\\ics\\AppData\\Roaming\\nltk_data...\n",
      "[nltk_data]   Package stopwords is already up-to-date!\n"
     ]
    }
   ],
   "source": [
    "#Preprocessing the text\n",
    "import nltk\n",
    "import string\n",
    "from nltk.corpus import stopwords\n",
    "from nltk.tokenize import word_tokenize\n",
    "from nltk.stem import PorterStemmer\n",
    "\n",
    "nltk.download('punkt')\n",
    "nltk.download('stopwords')\n",
    "\n",
    "stop_words = set(stopwords.words('english'))\n",
    "stemmer = PorterStemmer()\n",
    "\n",
    "def preprocess(text):\n",
    "    text = str(text).lower()\n",
    "    text = text.translate(str.maketrans('', '', string.punctuation))\n",
    "    tokens = word_tokenize(text)\n",
    "    filtered = [stemmer.stem(w) for w in tokens if w not in stop_words]\n",
    "    return \" \".join(filtered)\n",
    "\n",
    "df['cleaned_review'] = df['reviewText'].apply(preprocess)\n"
   ]
  },
  {
   "cell_type": "code",
   "execution_count": 15,
   "id": "b80d1587",
   "metadata": {},
   "outputs": [
    {
     "name": "stdout",
     "output_type": "stream",
     "text": [
      "Accuracy: 0.9465968586387434\n",
      "              precision    recall  f1-score   support\n",
      "\n",
      "           0       0.56      0.72      0.63        61\n",
      "           1       0.98      0.96      0.97       894\n",
      "\n",
      "    accuracy                           0.95       955\n",
      "   macro avg       0.77      0.84      0.80       955\n",
      "weighted avg       0.95      0.95      0.95       955\n",
      "\n"
     ]
    }
   ],
   "source": [
    "#TF-IDF and Model Training\n",
    "from sklearn.feature_extraction.text import TfidfVectorizer\n",
    "from sklearn.model_selection import train_test_split\n",
    "from sklearn.linear_model import LogisticRegression\n",
    "from sklearn.metrics import classification_report, accuracy_score\n",
    "\n",
    "vectorizer = TfidfVectorizer(max_features=10000)\n",
    "X = vectorizer.fit_transform(df['cleaned_review'])\n",
    "y = df['sentiment'].map({'Positive': 1, 'Negative': 0})  # Binary\n",
    "\n",
    "X_train, X_test, y_train, y_test = train_test_split(X, y, test_size=0.2, random_state=42)\n",
    "\n",
    "model = LogisticRegression(class_weight='balanced')\n",
    "model.fit(X_train, y_train)\n",
    "\n",
    "y_pred = model.predict(X_test)\n",
    "\n",
    "print(\"Accuracy:\", accuracy_score(y_test, y_pred))\n",
    "print(classification_report(y_test, y_pred))\n"
   ]
  },
  {
   "cell_type": "code",
   "execution_count": 16,
   "id": "87c4531a",
   "metadata": {},
   "outputs": [
    {
     "name": "stdout",
     "output_type": "stream",
     "text": [
      "Positive\n",
      "Positive\n"
     ]
    }
   ],
   "source": [
    "def predict_sentiment(text):\n",
    "    text = preprocess(text)\n",
    "    vectorized = vectorizer.transform([text])\n",
    "    result = model.predict(vectorized)\n",
    "    return \"Positive\" if result[0] == 1 else \"Negative\"\n",
    "\n",
    "# Try it!\n",
    "print(predict_sentiment(\"I love this product, it works perfectly!\"))\n",
    "print(predict_sentiment(\"Terrible, waste of money.\"))\n"
   ]
  },
  {
   "cell_type": "code",
   "execution_count": 17,
   "id": "f314737a",
   "metadata": {},
   "outputs": [
    {
     "name": "stdout",
     "output_type": "stream",
     "text": [
      "sentiment\n",
      "Positive    4449\n",
      "Negative     324\n",
      "Name: count, dtype: int64\n"
     ]
    }
   ],
   "source": [
    "print(df['sentiment'].value_counts())\n"
   ]
  }
 ],
 "metadata": {
  "kernelspec": {
   "display_name": "myenv",
   "language": "python",
   "name": "python3"
  },
  "language_info": {
   "codemirror_mode": {
    "name": "ipython",
    "version": 3
   },
   "file_extension": ".py",
   "mimetype": "text/x-python",
   "name": "python",
   "nbconvert_exporter": "python",
   "pygments_lexer": "ipython3",
   "version": "3.10.18"
  }
 },
 "nbformat": 4,
 "nbformat_minor": 5
}
