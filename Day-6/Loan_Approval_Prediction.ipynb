{
 "cells": [
  {
   "cell_type": "code",
   "execution_count": 1,
   "id": "43bcf4de",
   "metadata": {},
   "outputs": [],
   "source": [
    "import pandas as pd\n",
    "from sklearn.model_selection import train_test_split\n",
    "from sklearn.preprocessing import LabelEncoder\n",
    "from sklearn.tree import DecisionTreeClassifier\n",
    "from sklearn.ensemble import RandomForestClassifier\n",
    "from sklearn.metrics import accuracy_score,classification_report"
   ]
  },
  {
   "cell_type": "code",
   "execution_count": 2,
   "id": "68200f2f",
   "metadata": {},
   "outputs": [],
   "source": [
    "#creating a dummy dataset\n",
    "data = {\n",
    "    'Income': [50000, 60000, 35000, 45000, 80000, 30000, 75000, 40000],\n",
    "    'CreditScore': [720, 690, 680, 710, 730, 650, 700, 670],\n",
    "    'Employment': ['Salaried', 'Self-employed', 'Salaried', 'Salaried', 'Self-employed', 'Salaried', 'Salaried', 'Self-employed'],\n",
    "    'LoanAmount': [200000, 250000, 150000, 180000, 300000, 100000, 275000, 130000],\n",
    "    'LoanHistory': ['Good', 'Good', 'Bad', 'Good', 'Good', 'Bad', 'Good', 'Bad'],\n",
    "    'Approved': ['Yes', 'Yes', 'No', 'Yes', 'Yes', 'No', 'Yes', 'No']\n",
    "}\n",
    "df = pd.DataFrame(data)"
   ]
  },
  {
   "cell_type": "code",
   "execution_count": 3,
   "id": "1604a871",
   "metadata": {},
   "outputs": [],
   "source": [
    "# Step 3: Encode Categorical Features\n",
    "le = LabelEncoder()\n",
    "df['Employment'] = le.fit_transform(df['Employment'])  # Salaried=1, Self-employed=0\n",
    "df['LoanHistory'] = le.fit_transform(df['LoanHistory'])  # Good=1, Bad=0\n",
    "df['Approved'] = le.fit_transform(df['Approved'])  # Yes=1, No=0"
   ]
  },
  {
   "cell_type": "code",
   "execution_count": 4,
   "id": "d87bdcb9",
   "metadata": {},
   "outputs": [],
   "source": [
    "# Step 4: Split Data\n",
    "X = df.drop('Approved', axis=1)\n",
    "y = df['Approved']\n",
    "X_train, X_test, y_train, y_test = train_test_split(X, y, test_size=0.3, random_state=42)"
   ]
  },
  {
   "cell_type": "code",
   "execution_count": 5,
   "id": "d4b7fbd4",
   "metadata": {},
   "outputs": [],
   "source": [
    "# Step 5A: Train Decision Tree\n",
    "dt_model = DecisionTreeClassifier(random_state=42)\n",
    "dt_model.fit(X_train, y_train)\n",
    "y_pred_dt = dt_model.predict(X_test)"
   ]
  },
  {
   "cell_type": "code",
   "execution_count": 6,
   "id": "74e60f6e",
   "metadata": {},
   "outputs": [],
   "source": [
    "# Step 5B: Train Random Forest\n",
    "rf_model = RandomForestClassifier(random_state=42)\n",
    "rf_model.fit(X_train, y_train)\n",
    "y_pred_rf = rf_model.predict(X_test)"
   ]
  },
  {
   "cell_type": "code",
   "execution_count": 7,
   "id": "6bb7462e",
   "metadata": {},
   "outputs": [
    {
     "name": "stdout",
     "output_type": "stream",
     "text": [
      "🎯 Decision Tree Accuracy: 1.0\n",
      "              precision    recall  f1-score   support\n",
      "\n",
      "           0       1.00      1.00      1.00         1\n",
      "           1       1.00      1.00      1.00         2\n",
      "\n",
      "    accuracy                           1.00         3\n",
      "   macro avg       1.00      1.00      1.00         3\n",
      "weighted avg       1.00      1.00      1.00         3\n",
      "\n",
      "🌲 Random Forest Accuracy: 1.0\n",
      "              precision    recall  f1-score   support\n",
      "\n",
      "           0       1.00      1.00      1.00         1\n",
      "           1       1.00      1.00      1.00         2\n",
      "\n",
      "    accuracy                           1.00         3\n",
      "   macro avg       1.00      1.00      1.00         3\n",
      "weighted avg       1.00      1.00      1.00         3\n",
      "\n"
     ]
    }
   ],
   "source": [
    "# Step 6: Evaluation\n",
    "print(\"🎯 Decision Tree Accuracy:\", accuracy_score(y_test, y_pred_dt))\n",
    "print(classification_report(y_test, y_pred_dt))\n",
    "\n",
    "print(\"🌲 Random Forest Accuracy:\", accuracy_score(y_test, y_pred_rf))\n",
    "print(classification_report(y_test, y_pred_rf))"
   ]
  },
  {
   "cell_type": "code",
   "execution_count": 11,
   "id": "c7b818c2",
   "metadata": {},
   "outputs": [
    {
     "name": "stdout",
     "output_type": "stream",
     "text": [
      "Loan Approved? ✅ Yes\n"
     ]
    },
    {
     "name": "stderr",
     "output_type": "stream",
     "text": [
      "e:\\30_days_ml\\myenv\\Lib\\site-packages\\sklearn\\utils\\validation.py:2739: UserWarning: X does not have valid feature names, but RandomForestClassifier was fitted with feature names\n",
      "  warnings.warn(\n"
     ]
    }
   ],
   "source": [
    "# Predict a new sample: Income, CreditScore, Employment(1=Salaried), LoanAmount, LoanHistory(1=Good)\n",
    "new_data = [[50000, 710, 1, 200000, 1]]\n",
    "prediction = rf_model.predict(new_data)\n",
    "print(\"Loan Approved?\" , \"✅ Yes\" if prediction[0] == 1 else \"❌ No\")\n"
   ]
  }
 ],
 "metadata": {
  "kernelspec": {
   "display_name": "myenv",
   "language": "python",
   "name": "python3"
  },
  "language_info": {
   "codemirror_mode": {
    "name": "ipython",
    "version": 3
   },
   "file_extension": ".py",
   "mimetype": "text/x-python",
   "name": "python",
   "nbconvert_exporter": "python",
   "pygments_lexer": "ipython3",
   "version": "3.12.1"
  }
 },
 "nbformat": 4,
 "nbformat_minor": 5
}
