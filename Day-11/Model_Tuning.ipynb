{
 "cells": [
  {
   "cell_type": "code",
   "execution_count": 1,
   "id": "27b221cf",
   "metadata": {},
   "outputs": [],
   "source": [
    "import numpy as np\n",
    "import pandas as pd\n",
    "from sklearn.datasets import load_breast_cancer\n",
    "from sklearn.model_selection import train_test_split, GridSearchCV, RandomizedSearchCV\n",
    "from sklearn.svm import SVC\n",
    "from sklearn.metrics import classification_report, accuracy_score\n"
   ]
  },
  {
   "cell_type": "code",
   "execution_count": 2,
   "id": "031b54c6",
   "metadata": {},
   "outputs": [],
   "source": [
    "# Load the breast cancer dataset\n",
    "data = load_breast_cancer()\n",
    "X = data.data\n",
    "y = data.target\n",
    "\n",
    "# Split into training and testing sets\n",
    "X_train, X_test, y_train, y_test = train_test_split(X, y, test_size=0.2, random_state=42)\n"
   ]
  },
  {
   "cell_type": "code",
   "execution_count": 3,
   "id": "822df28f",
   "metadata": {},
   "outputs": [],
   "source": [
    "#Define model\n",
    "model = SVC()\n"
   ]
  },
  {
   "cell_type": "markdown",
   "id": "fd481afc",
   "metadata": {},
   "source": [
    "The param_grid is a dictionary where:\n",
    "\n",
    "  . Each key represents a hyperparameter of the model.\n",
    "\n",
    "  . Each value is a list of possible settings for that hyperparameter.\n",
    "\n",
    "Hyperparameters in this grid:\n",
    "1. 'C' (Regularization Parameter)\n",
    "\n",
    "  .Controls the trade-off between misclassification and model simplicity.\n",
    "\n",
    "  .Values: [0.1, 1, 10]\n",
    "\n",
    "     .A smaller C allows more misclassification (softer margin).\n",
    "\n",
    "     .A larger C enforces stricter classification (harder margin).\n",
    "\n",
    "2. 'kernel' (Kernel Function)\n",
    "\n",
    "    .Determines the type of decision boundary the SVM will use.\n",
    "\n",
    "    .Values: ['linear', 'rbf', 'poly']\n",
    "\n",
    "       .'linear': Uses a linear decision boundary (good for linearly separable data).\n",
    "\n",
    "       .'rbf' (Radial Basis Function): Uses a non-linear boundary (good for complex data).\n",
    "\n",
    "       .'poly' (Polynomial): Uses polynomial transformations (degree can be adjusted).\n",
    "\n",
    "3. 'gamma' (Kernel Coefficient)\n",
    "\n",
    "    .Defines how far the influence of a single training example reaches.\n",
    "\n",
    "    .Values: ['scale', 'auto']\n",
    "\n",
    "       .'scale': Default, uses 1 / (n_features * X.var()).\n",
    "\n",
    "       .'auto': Uses 1 / n_features."
   ]
  },
  {
   "cell_type": "code",
   "execution_count": 4,
   "id": "552047c8",
   "metadata": {},
   "outputs": [],
   "source": [
    "# Create a grid of hyperparameters\n",
    "param_grid = {\n",
    "    'C': [0.1, 1, 10],\n",
    "    'kernel': ['linear', 'rbf', 'poly'],\n",
    "    'gamma': ['scale', 'auto']\n",
    "}\n"
   ]
  },
  {
   "cell_type": "code",
   "execution_count": null,
   "id": "d01c4d5b",
   "metadata": {},
   "outputs": [],
   "source": [
    "grid = GridSearchCV(model, param_grid, cv=5, scoring='accuracy')\n",
    "grid.fit(X_train, y_train)\n",
    "\n",
    "# Best parameters and score\n",
    "print(\"Best Parameters:\", grid.best_params_)\n",
    "print(\"Best CV Score:\", grid.best_score_)\n"
   ]
  },
  {
   "cell_type": "code",
   "execution_count": null,
   "id": "8318073a",
   "metadata": {},
   "outputs": [],
   "source": [
    "# Evaluate with the best model\n",
    "best_model = grid.best_estimator_\n",
    "y_pred = best_model.predict(X_test)\n",
    "\n",
    "print(\"Test Accuracy:\", accuracy_score(y_test, y_pred))\n",
    "print(classification_report(y_test, y_pred))\n"
   ]
  },
  {
   "cell_type": "code",
   "execution_count": null,
   "id": "d211a6ac",
   "metadata": {},
   "outputs": [],
   "source": [
    "#RandomizedSearch CV\n",
    "from scipy.stats import uniform\n",
    "\n",
    "param_dist = {\n",
    "    'C': uniform(0.1, 10),\n",
    "    'kernel': ['linear', 'rbf', 'poly'],\n",
    "    'gamma': ['scale', 'auto']\n",
    "}\n",
    "\n",
    "random_search = RandomizedSearchCV(model, param_distributions=param_dist,\n",
    "                                   n_iter=10, cv=5, scoring='accuracy', random_state=42)\n",
    "random_search.fit(X_train, y_train)\n",
    "\n",
    "print(\"Best Parameters (Randomized):\", random_search.best_params_)\n",
    "print(\"Best Score (Randomized):\", random_search.best_score_)\n"
   ]
  }
 ],
 "metadata": {
  "kernelspec": {
   "display_name": "facerec",
   "language": "python",
   "name": "python3"
  },
  "language_info": {
   "codemirror_mode": {
    "name": "ipython",
    "version": 3
   },
   "file_extension": ".py",
   "mimetype": "text/x-python",
   "name": "python",
   "nbconvert_exporter": "python",
   "pygments_lexer": "ipython3",
   "version": "3.8.20"
  }
 },
 "nbformat": 4,
 "nbformat_minor": 5
}
