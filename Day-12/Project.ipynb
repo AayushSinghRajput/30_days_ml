{
 "cells": [
  {
   "cell_type": "markdown",
   "id": "a9d8ac82",
   "metadata": {},
   "source": [
    "Mini Project: Email Spam Classification"
   ]
  },
  {
   "cell_type": "code",
   "execution_count": 3,
   "id": "890de1c4",
   "metadata": {},
   "outputs": [],
   "source": [
    "from sklearn.datasets import fetch_20newsgroups\n",
    "from sklearn.feature_extraction.text import TfidfVectorizer\n",
    "from sklearn.model_selection import train_test_split"
   ]
  },
  {
   "cell_type": "code",
   "execution_count": 4,
   "id": "5c24cc97",
   "metadata": {},
   "outputs": [],
   "source": [
    "categories = ['rec.sport.baseball','sci.med']\n",
    "data = fetch_20newsgroups(subset='train',categories= categories)\n",
    "X = data.data\n",
    "y = data.target\n"
   ]
  },
  {
   "cell_type": "code",
   "execution_count": 5,
   "id": "bf767c56",
   "metadata": {},
   "outputs": [],
   "source": [
    "#convert text to numerical features\n",
    "vectorizer = TfidfVectorizer()\n",
    "X_vect = vectorizer.fit_transform(X)"
   ]
  },
  {
   "cell_type": "code",
   "execution_count": 6,
   "id": "930648f8",
   "metadata": {},
   "outputs": [],
   "source": [
    "X_train,X_test,y_train,y_test = train_test_split(X_vect,y,test_size=0.2,random_state=42)"
   ]
  },
  {
   "cell_type": "code",
   "execution_count": 9,
   "id": "3d30392d",
   "metadata": {},
   "outputs": [
    {
     "name": "stdout",
     "output_type": "stream",
     "text": [
      "NB Accuracy: 0.9581589958158996\n"
     ]
    }
   ],
   "source": [
    "from sklearn.naive_bayes import GaussianNB \n",
    "from sklearn.metrics import accuracy_score\n",
    "nb_model = GaussianNB()\n",
    "nb_model.fit(X_train.toarray(),y_train)\n",
    "print(\"NB Accuracy:\",accuracy_score(y_test,nb_model.predict(X_test.toarray())))"
   ]
  },
  {
   "cell_type": "code",
   "execution_count": 13,
   "id": "a2a8da16",
   "metadata": {},
   "outputs": [
    {
     "name": "stdout",
     "output_type": "stream",
     "text": [
      "SVM Accuracy: 97.90794979079497\n"
     ]
    }
   ],
   "source": [
    "from sklearn.svm import SVC\n",
    "svm_model = SVC(kernel='linear')\n",
    "svm_model.fit(X_train,y_train)\n",
    "print(\"SVM Accuracy:\",accuracy_score(y_test,svm_model.predict(X_test))*100)"
   ]
  },
  {
   "cell_type": "code",
   "execution_count": null,
   "id": "29000abe",
   "metadata": {},
   "outputs": [],
   "source": []
  }
 ],
 "metadata": {
  "kernelspec": {
   "display_name": "facerec",
   "language": "python",
   "name": "python3"
  },
  "language_info": {
   "codemirror_mode": {
    "name": "ipython",
    "version": 3
   },
   "file_extension": ".py",
   "mimetype": "text/x-python",
   "name": "python",
   "nbconvert_exporter": "python",
   "pygments_lexer": "ipython3",
   "version": "3.8.20"
  }
 },
 "nbformat": 4,
 "nbformat_minor": 5
}
