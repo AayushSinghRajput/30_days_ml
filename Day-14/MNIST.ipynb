{
 "cells": [
  {
   "cell_type": "markdown",
   "id": "12393089",
   "metadata": {},
   "source": [
    "#Building a Neural Network to  classify digits (MNIST)"
   ]
  },
  {
   "cell_type": "code",
   "execution_count": 17,
   "id": "50d99747",
   "metadata": {},
   "outputs": [],
   "source": [
    "import tensorflow as tf \n",
    "from tensorflow.keras import layers,models\n",
    "import matplotlib.pyplot as plt\n"
   ]
  },
  {
   "cell_type": "markdown",
   "id": "77082775",
   "metadata": {},
   "source": [
    "x_train, x_test → images of handwritten digits (28x28 grayscale).\n",
    "\n",
    "y_train, y_test → actual labels (0 to 9).\n",
    "\n",
    "We divide by 255.0 to normalize pixel values between 0 and 1 (makes training easier and faster)."
   ]
  },
  {
   "cell_type": "code",
   "execution_count": 18,
   "id": "2895077f",
   "metadata": {},
   "outputs": [],
   "source": [
    "#Load Dataset\n",
    "(x_train,y_train),(x_test,y_test)=tf.keras.datasets.mnist.load_data()\n",
    "\n",
    "#Normalize the data to [0,1]\n",
    "x_train , x_test = x_train / 255.0 , x_test /255.0"
   ]
  },
  {
   "cell_type": "markdown",
   "id": "f9b3dae1",
   "metadata": {},
   "source": [
    "Sequential: builds the model layer by layer.\n",
    "\n",
    "Flatten: changes the 2D image to a 1D vector.\n",
    "\n",
    "Dense: fully connected layer.\n",
    "\n",
    "ReLU: activation function for non-linearity.\n",
    "\n",
    "Dropout: helps avoid overfitting.\n",
    "\n",
    "Softmax: used in output layer to give probabilities for each digit."
   ]
  },
  {
   "cell_type": "code",
   "execution_count": 19,
   "id": "3fc9622d",
   "metadata": {},
   "outputs": [],
   "source": [
    "#Building the Neural Network Model\n",
    "model = models.Sequential([\n",
    "    layers.Flatten(input_shape=(28, 28)),   # Convert 28x28 image to 1D array\n",
    "    layers.Dense(128, activation='relu'),   # Hidden layer\n",
    "    layers.Dropout(0.2),                    # Dropout for regularization\n",
    "    layers.Dense(10, activation='softmax')  # Output layer for 10 classes\n",
    "])\n"
   ]
  },
  {
   "cell_type": "markdown",
   "id": "2a01c803",
   "metadata": {},
   "source": [
    "adam: an efficient optimizer for deep learning.\n",
    "\n",
    "sparse_categorical_crossentropy: appropriate for multi-class classification.\n",
    "\n",
    "accuracy: we want to monitor accuracy during training."
   ]
  },
  {
   "cell_type": "code",
   "execution_count": 20,
   "id": "535bd66a",
   "metadata": {},
   "outputs": [],
   "source": [
    "#Compile the model\n",
    "model.compile(optimizer='adam',\n",
    "              loss='sparse_categorical_crossentropy',\n",
    "              metrics=['accuracy'])\n"
   ]
  },
  {
   "cell_type": "markdown",
   "id": "740bc15d",
   "metadata": {},
   "source": [
    "During each epoch, the model adjusts weights using backpropagation"
   ]
  },
  {
   "cell_type": "code",
   "execution_count": 21,
   "id": "7cb05b53",
   "metadata": {},
   "outputs": [
    {
     "name": "stdout",
     "output_type": "stream",
     "text": [
      "Epoch 1/10\n",
      "1875/1875 [==============================] - 5s 3ms/step - loss: 0.2970 - accuracy: 0.9137\n",
      "Epoch 2/10\n",
      "1875/1875 [==============================] - 5s 2ms/step - loss: 0.1467 - accuracy: 0.9574\n",
      "Epoch 3/10\n",
      "1875/1875 [==============================] - 5s 3ms/step - loss: 0.1093 - accuracy: 0.9672\n",
      "Epoch 4/10\n",
      "1875/1875 [==============================] - 5s 3ms/step - loss: 0.0891 - accuracy: 0.9731\n",
      "Epoch 5/10\n",
      "1875/1875 [==============================] - 5s 2ms/step - loss: 0.0756 - accuracy: 0.9768\n",
      "Epoch 6/10\n",
      "1875/1875 [==============================] - 5s 2ms/step - loss: 0.0663 - accuracy: 0.9785\n",
      "Epoch 7/10\n",
      "1875/1875 [==============================] - 5s 3ms/step - loss: 0.0575 - accuracy: 0.9814\n",
      "Epoch 8/10\n",
      "1875/1875 [==============================] - 5s 3ms/step - loss: 0.0527 - accuracy: 0.9827\n",
      "Epoch 9/10\n",
      "1875/1875 [==============================] - 6s 3ms/step - loss: 0.0490 - accuracy: 0.9836\n",
      "Epoch 10/10\n",
      "1875/1875 [==============================] - 6s 3ms/step - loss: 0.0443 - accuracy: 0.9855\n"
     ]
    },
    {
     "data": {
      "text/plain": [
       "<keras.src.callbacks.History at 0x16c07f5b2b0>"
      ]
     },
     "execution_count": 21,
     "metadata": {},
     "output_type": "execute_result"
    }
   ],
   "source": [
    "#Train the model\n",
    "model.fit(x_train,y_train,epochs=10)"
   ]
  },
  {
   "cell_type": "code",
   "execution_count": 22,
   "id": "d63a523b",
   "metadata": {},
   "outputs": [
    {
     "name": "stdout",
     "output_type": "stream",
     "text": [
      "313/313 - 1s - loss: 0.0720 - accuracy: 0.9797 - 790ms/epoch - 3ms/step\n",
      "\n",
      "Test accuracy: 0.98\n"
     ]
    }
   ],
   "source": [
    "#Evaluate the Model\n",
    "test_loss, test_acc = model.evaluate(x_test, y_test, verbose=2)\n",
    "print(f'\\nTest accuracy: {test_acc:.2f}')\n"
   ]
  },
  {
   "cell_type": "markdown",
   "id": "93f366bd",
   "metadata": {},
   "source": [
    "x_test[0]: shows the first image in test data.\n",
    "\n",
    "predictions[0]: probabilities for that image.\n",
    "\n",
    "np.argmax(predictions[0]): picks the digit with the highest probability."
   ]
  },
  {
   "cell_type": "code",
   "execution_count": 23,
   "id": "91135e65",
   "metadata": {},
   "outputs": [
    {
     "name": "stdout",
     "output_type": "stream",
     "text": [
      "313/313 [==============================] - 1s 2ms/step\n"
     ]
    },
    {
     "data": {
      "image/png": "[encoded data removed]",
      "text/plain": [
       "<Figure size 640x480 with 1 Axes>"
      ]
     },
     "metadata": {},
     "output_type": "display_data"
    }
   ],
   "source": [
    "#Visualization\n",
    "import numpy as np\n",
    "\n",
    "predictions = model.predict(x_test)\n",
    "\n",
    "# Show the first image and predicted label\n",
    "plt.imshow(x_test[0], cmap='gray')\n",
    "plt.title(f'Predicted: {np.argmax(predictions[0])}, Actual: {y_test[0]}')\n",
    "plt.show()\n"
   ]
  },
  {
   "cell_type": "code",
   "execution_count": 24,
   "id": "0de7bdbe",
   "metadata": {},
   "outputs": [
    {
     "data": {
      "image/png": "[encoded data removed]",
      "text/plain": [
       "<Figure size 640x480 with 1 Axes>"
      ]
     },
     "metadata": {},
     "output_type": "display_data"
    }
   ],
   "source": [
    "index = 8  # Change this to test a different digit\n",
    "\n",
    "plt.imshow(x_test[index], cmap='gray')\n",
    "plt.title(f'Predicted: {np.argmax(predictions[index])}, Actual: {y_test[index]}')\n",
    "plt.show()\n"
   ]
  }
 ],
 "metadata": {
  "kernelspec": {
   "display_name": "facerec",
   "language": "python",
   "name": "python3"
  },
  "language_info": {
   "codemirror_mode": {
    "name": "ipython",
    "version": 3
   },
   "file_extension": ".py",
   "mimetype": "text/x-python",
   "name": "python",
   "nbconvert_exporter": "python",
   "pygments_lexer": "ipython3",
   "version": "3.8.20"
  }
 },
 "nbformat": 4,
 "nbformat_minor": 5
}
